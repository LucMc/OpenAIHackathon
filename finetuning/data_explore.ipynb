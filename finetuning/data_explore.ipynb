{
 "cells": [
  {
   "cell_type": "code",
   "execution_count": 42,
   "metadata": {},
   "outputs": [],
   "source": [
    "import pandas as pd\n",
    "import requests\n",
    "from bs4 import BeautifulSoup\n",
    "import json"
   ]
  },
  {
   "cell_type": "code",
   "execution_count": 3,
   "metadata": {},
   "outputs": [
    {
     "data": {
      "text/html": [
       "<div>\n",
       "<style scoped>\n",
       "    .dataframe tbody tr th:only-of-type {\n",
       "        vertical-align: middle;\n",
       "    }\n",
       "\n",
       "    .dataframe tbody tr th {\n",
       "        vertical-align: top;\n",
       "    }\n",
       "\n",
       "    .dataframe thead th {\n",
       "        text-align: right;\n",
       "    }\n",
       "</style>\n",
       "<table border=\"1\" class=\"dataframe\">\n",
       "  <thead>\n",
       "    <tr style=\"text-align: right;\">\n",
       "      <th></th>\n",
       "      <th>QCode</th>\n",
       "      <th>SolutionID</th>\n",
       "      <th>timeago</th>\n",
       "      <th>UserID</th>\n",
       "      <th>Status</th>\n",
       "      <th>TimeTaken</th>\n",
       "      <th>MemTaken</th>\n",
       "      <th>Language</th>\n",
       "      <th>SolutionUrl</th>\n",
       "    </tr>\n",
       "  </thead>\n",
       "  <tbody>\n",
       "    <tr>\n",
       "      <th>0</th>\n",
       "      <td>A1</td>\n",
       "      <td>S11986970</td>\n",
       "      <td>07:58 PM 31/10/16</td>\n",
       "      <td>/users/ismail_2311</td>\n",
       "      <td>accepted</td>\n",
       "      <td>1.43</td>\n",
       "      <td>2M</td>\n",
       "      <td>C</td>\n",
       "      <td>/viewplaintext/11986970</td>\n",
       "    </tr>\n",
       "    <tr>\n",
       "      <th>1</th>\n",
       "      <td>A1</td>\n",
       "      <td>S11990433</td>\n",
       "      <td>07:51 PM 01/11/16</td>\n",
       "      <td>/users/mohit_15</td>\n",
       "      <td>wrong answer</td>\n",
       "      <td>0.00</td>\n",
       "      <td>2M</td>\n",
       "      <td>C</td>\n",
       "      <td>/viewplaintext/11990433</td>\n",
       "    </tr>\n",
       "    <tr>\n",
       "      <th>2</th>\n",
       "      <td>A1</td>\n",
       "      <td>S11990440</td>\n",
       "      <td>07:54 PM 01/11/16</td>\n",
       "      <td>/users/mohit_15</td>\n",
       "      <td>accepted</td>\n",
       "      <td>0.00</td>\n",
       "      <td>2M</td>\n",
       "      <td>C</td>\n",
       "      <td>/viewplaintext/11990440</td>\n",
       "    </tr>\n",
       "    <tr>\n",
       "      <th>3</th>\n",
       "      <td>A1</td>\n",
       "      <td>S11995888</td>\n",
       "      <td>12:17 PM 03/11/16</td>\n",
       "      <td>/users/saloni1907</td>\n",
       "      <td>compilation error</td>\n",
       "      <td>-</td>\n",
       "      <td>-</td>\n",
       "      <td>C++ 4.3.2</td>\n",
       "      <td>/viewplaintext/11995888</td>\n",
       "    </tr>\n",
       "    <tr>\n",
       "      <th>4</th>\n",
       "      <td>A1</td>\n",
       "      <td>S11995889</td>\n",
       "      <td>12:18 PM 03/11/16</td>\n",
       "      <td>/users/saloni1907</td>\n",
       "      <td>accepted</td>\n",
       "      <td>0.00</td>\n",
       "      <td>2.7M</td>\n",
       "      <td>C++ 4.3.2</td>\n",
       "      <td>/viewplaintext/11995889</td>\n",
       "    </tr>\n",
       "  </tbody>\n",
       "</table>\n",
       "</div>"
      ],
      "text/plain": [
       "  QCode SolutionID            timeago              UserID             Status  \\\n",
       "0    A1  S11986970  07:58 PM 31/10/16  /users/ismail_2311           accepted   \n",
       "1    A1  S11990433  07:51 PM 01/11/16     /users/mohit_15       wrong answer   \n",
       "2    A1  S11990440  07:54 PM 01/11/16     /users/mohit_15           accepted   \n",
       "3    A1  S11995888  12:17 PM 03/11/16   /users/saloni1907  compilation error   \n",
       "4    A1  S11995889  12:18 PM 03/11/16   /users/saloni1907           accepted   \n",
       "\n",
       "  TimeTaken MemTaken   Language              SolutionUrl  \n",
       "0      1.43       2M          C  /viewplaintext/11986970  \n",
       "1      0.00       2M          C  /viewplaintext/11990433  \n",
       "2      0.00       2M          C  /viewplaintext/11990440  \n",
       "3         -        -  C++ 4.3.2  /viewplaintext/11995888  \n",
       "4      0.00     2.7M  C++ 4.3.2  /viewplaintext/11995889  "
      ]
     },
     "execution_count": 3,
     "metadata": {},
     "output_type": "execute_result"
    }
   ],
   "source": [
    "df = pd.read_csv(\"../data/solutions.csv\")\n",
    "df.head()"
   ]
  },
  {
   "cell_type": "code",
   "execution_count": 14,
   "metadata": {},
   "outputs": [],
   "source": [
    "df = df[df[\"Status\"] == \"accepted\"]\n",
    "group = df.groupby(\"QCode\")\n",
    "group_keys = group.groups.keys()"
   ]
  },
  {
   "cell_type": "code",
   "execution_count": 44,
   "metadata": {},
   "outputs": [],
   "source": [
    "with open(\"./converted.txt\", \"w\") as f:\n",
    "    for g in group_keys:\n",
    "        question = group.get_group(g)\n",
    "        question = question[['TimeTaken', 'SolutionUrl']]\n",
    "        question = question.sort_values(\"TimeTaken\")\n",
    "        question = question.drop_duplicates(subset=[\"TimeTaken\"])\n",
    "        question['SolutionUrl'] = 'https://www.codechef.com' + question['SolutionUrl']\n",
    "        html = requests.get(question.iloc[0][\"SolutionUrl\"]).text\n",
    "        soup = BeautifulSoup(html, 'html.parser')\n",
    "        completion = soup.get_text()\n",
    "        for _, (_, link) in question.iloc[1:].iterrows():\n",
    "            html = requests.get(question.iloc[0][\"SolutionUrl\"]).text\n",
    "            soup = BeautifulSoup(html, 'html.parser')\n",
    "            prompt = \"# Make this code more efficient\\n\" + soup.get_text()\n",
    "            to_write = json.dumps({\"prompt\": prompt.replace('\"', \"\\\"\"), \"completion\": completion.replace('\"', \"\\\"\")})\n",
    "            f.write(to_write+\"\\n\")\n"
   ]
  },
  {
   "cell_type": "code",
   "execution_count": 47,
   "metadata": {},
   "outputs": [],
   "source": [
    "with open('./converted.txt', \"r\") as i:\n",
    "    with open(\"./converted_no_duplicates.txt\", \"w\") as o:\n",
    "        uniqlines = list(set(i.readlines()))\n",
    "        o.writelines(uniqlines)"
   ]
  },
  {
   "cell_type": "code",
   "execution_count": 48,
   "metadata": {},
   "outputs": [
    {
     "data": {
      "text/plain": [
       "339"
      ]
     },
     "execution_count": 48,
     "metadata": {},
     "output_type": "execute_result"
    }
   ],
   "source": [
    "len(group_keys)"
   ]
  },
  {
   "cell_type": "code",
   "execution_count": null,
   "metadata": {},
   "outputs": [],
   "source": []
  }
 ],
 "metadata": {
  "kernelspec": {
   "display_name": "Python 3.7.11 ('base')",
   "language": "python",
   "name": "python3"
  },
  "language_info": {
   "codemirror_mode": {
    "name": "ipython",
    "version": 3
   },
   "file_extension": ".py",
   "mimetype": "text/x-python",
   "name": "python",
   "nbconvert_exporter": "python",
   "pygments_lexer": "ipython3",
   "version": "3.7.11"
  },
  "orig_nbformat": 4,
  "vscode": {
   "interpreter": {
    "hash": "a948ad4421f8548af5cbc983f6b213ad18c5c676d7864a18cfcce74f4d1970b7"
   }
  }
 },
 "nbformat": 4,
 "nbformat_minor": 2
}
