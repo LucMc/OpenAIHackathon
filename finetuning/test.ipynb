{
 "cells": [
  {
   "cell_type": "code",
   "execution_count": 17,
   "metadata": {},
   "outputs": [],
   "source": [
    "prompt = \"\"\"# Make this code more efficient\n",
    "arr = np.array([1,2,3])\n",
    "random.choices(arr, k=1)\"\"\"\n",
    "\n",
    "completion = \"\"\"arr = np.array([1,2,3])\n",
    "np.random.choice(arr, size=1)\"\"\"\n",
    "#print(repr(t).replace(\"\\\\\\\\\", \"\\\\\"))"
   ]
  },
  {
   "cell_type": "code",
   "execution_count": 18,
   "metadata": {},
   "outputs": [],
   "source": [
    "with open(\"./converted.txt\", \"w\") as f:\n",
    "    f.write(str({\"prompt\": prompt, \"completion\": completion}).replace(\"'\", '\"'))"
   ]
  },
  {
   "cell_type": "markdown",
   "metadata": {},
   "source": [
    "## Finetune Model\n",
    "<code>openai tools fine_tunes.prepare_data -f ./finetune.jsonl</code>\n",
    "\n",
    "Note: Delete finetune_prepared.jsonl if it already exists\n",
    "\n",
    "<code>openai api fine_tunes.create -t ./finetune_prepared.jsonl -m davinci</code>"
   ]
  },
  {
   "cell_type": "markdown",
   "metadata": {},
   "source": [
    "## Use Finetuned Model\n",
    "\n",
    "Output Structure:</br>\n",
    "<code>\n",
    "echo $(openai api completions.create -m <MODEL> -p \"<PROMPT>\\n\\n###\\n\\n\") > output.txt\n",
    "</code>\n",
    "\n",
    "Sample Ouput:</br>\n",
    "<code>\n",
    "echo $(openai api completions.create -m davinci:ft-hackathon-2022-11-12-23-56-45 -p \"# Make this code more efficient\\ndef sort(arr):\\n    n = len(arr)\\n    for i in range(n):\\n        for j in range(0, n-i-1):\\n            if arr[j] > arr[j+1]:\\n                arr[j], arr[j+1] = arr[j+1], arr[j]\\n\\n###\\n\\n\") > output.txt\n",
    "</code>"
   ]
  },
  {
   "cell_type": "code",
   "execution_count": null,
   "metadata": {},
   "outputs": [],
   "source": []
  }
 ],
 "metadata": {
  "kernelspec": {
   "display_name": "Python 3.7.11 ('base')",
   "language": "python",
   "name": "python3"
  },
  "language_info": {
   "codemirror_mode": {
    "name": "ipython",
    "version": 3
   },
   "file_extension": ".py",
   "mimetype": "text/x-python",
   "name": "python",
   "nbconvert_exporter": "python",
   "pygments_lexer": "ipython3",
   "version": "3.7.11"
  },
  "orig_nbformat": 4,
  "vscode": {
   "interpreter": {
    "hash": "a948ad4421f8548af5cbc983f6b213ad18c5c676d7864a18cfcce74f4d1970b7"
   }
  }
 },
 "nbformat": 4,
 "nbformat_minor": 2
}
