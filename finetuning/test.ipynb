{
 "cells": [
  {
   "cell_type": "code",
   "execution_count": 16,
   "metadata": {},
   "outputs": [],
   "source": [
    "prompt = \"\"\"# Make this code more efficient\n",
    "def gradient_descent(x, d, mu, N_epochs):\n",
    "    N = len(x)\n",
    "    f = 2 / N\n",
    "\n",
    "    # \"Empty\" predictions, errors, weights, gradients.\n",
    "    y = [0] * N\n",
    "    w = [0, 0]\n",
    "    grad = [0, 0]\n",
    "\n",
    "    for _ in it.repeat(None, N_epochs):\n",
    "        # Can't use a generator because we need to\n",
    "        # access its elements twice.\n",
    "        err = tuple(i - j for i, j in zip(d, y))\n",
    "        grad[0] = f * sum(err)\n",
    "        grad[1] = f * sum(i * j for i, j in zip(err, x))\n",
    "        w = [i + mu * j for i, j in zip(w, grad)]\n",
    "        y = (w[0] + w[1] * i for i in x)\n",
    "    return w\"\"\"\n",
    "\n",
    "completion = \"\"\"def gradient_descent(x, d, mu, N_epochs):\n",
    "    d = d.squeeze()\n",
    "    N = len(x)\n",
    "    f = 2 / N\n",
    "\n",
    "    y = np.zeros(N)\n",
    "    err = np.zeros(N)\n",
    "    w = np.zeros(2)\n",
    "    grad = np.empty(2)\n",
    "\n",
    "    for _ in it.repeat(None, N_epochs):\n",
    "        np.subtract(d, y, out=err)\n",
    "        grad[:] = f * np.sum(err), f * (err @ x)\n",
    "        w = w + mu * grad\n",
    "        y = w[0] + w[1] * x\n",
    "    return w\"\"\"\n",
    "#print(repr(t).replace(\"\\\\\\\\\", \"\\\\\"))"
   ]
  },
  {
   "cell_type": "code",
   "execution_count": 17,
   "metadata": {},
   "outputs": [],
   "source": [
    "with open(\"./converted.txt\", \"w\") as f:\n",
    "    f.write(str({\"prompt\": prompt, \"completion\": completion}).replace(\"'\", '\"'))"
   ]
  },
  {
   "cell_type": "markdown",
   "metadata": {},
   "source": [
    "## Use Finetuned Model\n",
    "\n",
    "ModelID: davinci:ft-personal-2022-11-12-21-20-40\n",
    "\n",
    "echo $(openai api completions.create -m davinci:ft-personal-2022-11-12-21-20-40 -p \"# Make this code more efficient\\ndef sort(arr):\\n    n = len(arr)\\n    for i in range(n):\\n        for j in range(0, n-i-1):\\n            if arr[j] > arr[j+1]:\\n                arr[j], arr[j+1] = arr[j+1], arr[j]\") > output.txt"
   ]
  },
  {
   "cell_type": "code",
   "execution_count": null,
   "metadata": {},
   "outputs": [],
   "source": []
  }
 ],
 "metadata": {
  "kernelspec": {
   "display_name": "Python 3.7.11 ('base')",
   "language": "python",
   "name": "python3"
  },
  "language_info": {
   "codemirror_mode": {
    "name": "ipython",
    "version": 3
   },
   "file_extension": ".py",
   "mimetype": "text/x-python",
   "name": "python",
   "nbconvert_exporter": "python",
   "pygments_lexer": "ipython3",
   "version": "3.7.11"
  },
  "orig_nbformat": 4,
  "vscode": {
   "interpreter": {
    "hash": "a948ad4421f8548af5cbc983f6b213ad18c5c676d7864a18cfcce74f4d1970b7"
   }
  }
 },
 "nbformat": 4,
 "nbformat_minor": 2
}
